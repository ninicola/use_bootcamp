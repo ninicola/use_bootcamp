{
 "cells": [
  {
   "cell_type": "markdown",
   "metadata": {},
   "source": [
    "# Now Plot it out\n",
    "\n",
    "Sentiment Analysis is already crazy fun, but how can we visualize it? In this exercise we will do just that!\n",
    "\n",
    "### Instructions\n",
    "\n",
    "* Run a sentiment analysis on tweets from \"@SouthwestAir\".\n",
    "\n",
    "* On top of you regular analysis, you should also keep track of how many tweets ago was it tweeted.\n",
    "\n",
    "* Next store our results into a pandas DataFrame and read results.\n",
    "\n",
    "* Finally create a plot with the follow labels.\n",
    "\n",
    "  * Title as \"Sentiment Analysis of Tweet (`date`) for `Twitter Handle`.\n",
    "\n",
    "  * Y label as \"Tweet Polarity\"\n",
    "\n",
    "  * X label as \"Tweets Ago\"\n",
    "\n",
    "### Hints\n",
    "\n",
    "* Make sure you are using the correct method from Tweepy to gather statuses from a specific user.\n",
    "\n",
    "### Bonus\n",
    "\n",
    "* Order the tweets from oldest to newest in the plot.\n",
    "\n",
    "- - -\n",
    "\n",
    "### Copyright\n",
    "\n",
    "Trilogy Education Services © 2017. All Rights Reserved.\n",
    "\n"
   ]
  },
  {
   "cell_type": "code",
   "execution_count": 1,
   "metadata": {},
   "outputs": [],
   "source": [
    "# Dependencies\n",
    "import tweepy\n",
    "import numpy as np\n",
    "import pandas as pd\n",
    "from datetime import datetime\n",
    "import matplotlib.pyplot as plt\n",
    "from matplotlib import style\n",
    "style.use('ggplot')\n",
    "\n",
    "# Import and Initialize Sentiment Analyzer\n",
    "from vaderSentiment.vaderSentiment import SentimentIntensityAnalyzer\n",
    "analyzer = SentimentIntensityAnalyzer()\n",
    "\n",
    "# Twitter API Keys\n",
    "from config import (consumer_key, \n",
    "                    consumer_secret, \n",
    "                    access_token, \n",
    "                    access_token_secret)\n",
    "\n",
    "# Setup Tweepy API Authentication\n",
    "auth = tweepy.OAuthHandler(consumer_key, consumer_secret)\n",
    "auth.set_access_token(access_token, access_token_secret)\n",
    "api = tweepy.API(auth, parser=tweepy.parsers.JSONParser())"
   ]
  },
  {
   "cell_type": "code",
   "execution_count": null,
   "metadata": {
    "collapsed": true
   },
   "outputs": [],
   "source": [
    "# Target Account\n",
    "target_user = \"@SouthwestAir\"\n",
    "\n",
    "# YOUR CODE HERE"
   ]
  },
  {
   "cell_type": "code",
   "execution_count": null,
   "metadata": {},
   "outputs": [],
   "source": [
    "# Convert sentiments to DataFrame\n",
    "# YOUR CODE HERE"
   ]
  },
  {
   "cell_type": "code",
   "execution_count": null,
   "metadata": {},
   "outputs": [],
   "source": [
    "# Create plot\n",
    "# YOUR CODE HERE\n",
    "\n",
    "# # Incorporate the other graph properties\n",
    "now = datetime.now()\n",
    "now = now.strftime(\"%Y-%m-%d %H:%M\")\n",
    "plt.title(f\"Sentiment Analysis of Tweets ({now}) for {target_user}\")\n",
    "plt.ylabel(\"Tweet Polarity\")\n",
    "plt.xlabel(\"Tweets Ago\")\n",
    "plt.show()"
   ]
  }
 ],
 "metadata": {
  "anaconda-cloud": {},
  "kernelspec": {
   "display_name": "Python 3",
   "language": "python",
   "name": "python3"
  },
  "language_info": {
   "codemirror_mode": {
    "name": "ipython",
    "version": 3
   },
   "file_extension": ".py",
   "mimetype": "text/x-python",
   "name": "python",
   "nbconvert_exporter": "python",
   "pygments_lexer": "ipython3",
   "version": "3.6.4"
  },
  "varInspector": {
   "cols": {
    "lenName": 16,
    "lenType": 16,
    "lenVar": 40
   },
   "kernels_config": {
    "python": {
     "delete_cmd_postfix": "",
     "delete_cmd_prefix": "del ",
     "library": "var_list.py",
     "varRefreshCmd": "print(var_dic_list())"
    },
    "r": {
     "delete_cmd_postfix": ") ",
     "delete_cmd_prefix": "rm(",
     "library": "var_list.r",
     "varRefreshCmd": "cat(var_dic_list()) "
    }
   },
   "types_to_exclude": [
    "module",
    "function",
    "builtin_function_or_method",
    "instance",
    "_Feature"
   ],
   "window_display": false
  }
 },
 "nbformat": 4,
 "nbformat_minor": 1
}
