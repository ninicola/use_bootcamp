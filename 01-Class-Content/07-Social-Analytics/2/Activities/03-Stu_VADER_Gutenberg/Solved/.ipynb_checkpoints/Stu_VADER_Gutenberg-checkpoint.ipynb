{
 "cells": [
  {
   "cell_type": "code",
   "execution_count": 1,
   "metadata": {
    "collapsed": true
   },
   "outputs": [],
   "source": [
    "# Import and Initialize Sentiment Analyzer\n",
    "from vaderSentiment.vaderSentiment import SentimentIntensityAnalyzer\n",
    "analyzer = SentimentIntensityAnalyzer()"
   ]
  },
  {
   "cell_type": "code",
   "execution_count": 2,
   "metadata": {
    "collapsed": true
   },
   "outputs": [],
   "source": [
    "# Placeholder for strings\n",
    "sample1 = \"\"\n",
    "sample2 = \"\"\n",
    "sample3 = \"\"\n",
    "\n",
    "# Open each of the samples\n",
    "with open(\"../Resources/Sample1.txt\") as sample:\n",
    "    sample1 = sample.read()\n",
    "\n",
    "with open(\"../Resources/Sample2.txt\") as sample:\n",
    "    sample2 = sample.read()\n",
    "\n",
    "with open(\"../Resources/Sample3.txt\") as sample:\n",
    "    sample3 = sample.read()"
   ]
  },
  {
   "cell_type": "code",
   "execution_count": 3,
   "metadata": {},
   "outputs": [
    {
     "name": "stdout",
     "output_type": "stream",
     "text": [
      "One morning, when Gregor Samsa woke from troubled dreams, he found himself transformed in his bed into a horrible vermin. He lay on his armour-like back, and if he lifted his head a little he could see his brown belly, slightly domed and divided by arches into stiff sections. The bedding was hardly able to cover it and seemed ready to slide off any moment. His many legs, pitifully thin compared with the size of the rest of him, waved about helplessly as he looked.\n",
      "\n",
      "Compound Score: -0.7096\n",
      "Positive Score: 0.056\n",
      "Neutral Score: 0.825\n",
      "Negative Score:  0.119\n",
      "\n",
      "When we recognise the virtues, the talent, the beauty of Mother Earth, something is born in us, some kind of connection, love is born.\n",
      "Compound Score: 0.9231\n",
      "Positive Score: 0.399\n",
      "Neutral Score: 0.601\n",
      "Negative Score:  0.0\n",
      "\n",
      "And you're worried, not because you're headed to meet a houseful of vampires, but because you think those vampires won't approve of you, correct?\n",
      "That's right, I answered immediately, hiding my surprise at his casual use of the word.\n",
      "He shook his head. You're incredible. \n",
      "Compound Score: -0.0387\n",
      "Positive Score: 0.099\n",
      "Neutral Score: 0.778\n",
      "Negative Score:  0.123\n",
      "\n"
     ]
    }
   ],
   "source": [
    "# Run Vader Sentiment Analysis on Each of the Samples\n",
    "samples = (sample1, sample2, sample3)\n",
    "\n",
    "# Loop through Each Sample\n",
    "for sample in samples:\n",
    "\n",
    "    # Run Vader Analysis on each Sample\n",
    "    results = analyzer.polarity_scores(sample)\n",
    "    compound = results[\"compound\"]\n",
    "    pos = results[\"pos\"]\n",
    "    neu = results[\"neu\"]\n",
    "    neg = results[\"neg\"]\n",
    "\n",
    "    # Print Samples and Analysis\n",
    "    print(sample)\n",
    "    print(\"Compound Score:\", compound)\n",
    "    print(\"Positive Score:\", pos)\n",
    "    print(\"Neutral Score:\", neu)\n",
    "    print(\"Negative Score: \", neg)\n",
    "    print()"
   ]
  }
 ],
 "metadata": {
  "kernelspec": {
   "display_name": "Python 3",
   "language": "python",
   "name": "python3"
  },
  "language_info": {
   "codemirror_mode": {
    "name": "ipython",
    "version": 3
   },
   "file_extension": ".py",
   "mimetype": "text/x-python",
   "name": "python",
   "nbconvert_exporter": "python",
   "pygments_lexer": "ipython3",
   "version": "3.6.4"
  },
  "varInspector": {
   "cols": {
    "lenName": 16,
    "lenType": 16,
    "lenVar": 40
   },
   "kernels_config": {
    "python": {
     "delete_cmd_postfix": "",
     "delete_cmd_prefix": "del ",
     "library": "var_list.py",
     "varRefreshCmd": "print(var_dic_list())"
    },
    "r": {
     "delete_cmd_postfix": ") ",
     "delete_cmd_prefix": "rm(",
     "library": "var_list.r",
     "varRefreshCmd": "cat(var_dic_list()) "
    }
   },
   "types_to_exclude": [
    "module",
    "function",
    "builtin_function_or_method",
    "instance",
    "_Feature"
   ],
   "window_display": false
  }
 },
 "nbformat": 4,
 "nbformat_minor": 2
}
