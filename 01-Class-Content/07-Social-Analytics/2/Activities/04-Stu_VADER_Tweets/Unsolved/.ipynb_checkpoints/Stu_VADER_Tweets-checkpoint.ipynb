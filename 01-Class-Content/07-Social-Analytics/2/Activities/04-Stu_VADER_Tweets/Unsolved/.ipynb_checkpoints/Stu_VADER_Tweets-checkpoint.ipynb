{
 "cells": [
  {
   "cell_type": "markdown",
   "metadata": {},
   "source": [
    "## Twitter Analysis\n",
    "\n",
    "In this activity, you will inspect the sentiment of a famous individual's tweets.\n",
    "\n",
    "### Instructions\n",
    "\n",
    "* Using the tweepy package, analyze the tweets from \"@DalaiLama\".\n",
    "\n",
    "  * Analyze a total of 200 tweets. (How many tweets are on a page?)\n",
    "\n",
    "  * Store the different scores (positive, negative, neutral, compound) in different lists.\n",
    "\n",
    "  * Print the user's name and the mean of the following scores:\n",
    "\n",
    "    * Compound\n",
    "\n",
    "    * Positive\n",
    "\n",
    "    * Neutral\n",
    "\n",
    "    * Negative\n",
    "\n",
    "### Bonus\n",
    "\n",
    "* Compare the analysis to two other twitter accounts.  Display the results in a Pandas DataFrame.\n",
    "\n",
    "* Feel free to use accounts of your own but remember you need to have at least 200 tweets.\n",
    "\n",
    "* If you don't have an account or enough tweets, try using \"@RealDonaldtrump\" and \"@Katyperry\"\n",
    "\n",
    "- - -\n",
    "\n",
    "### Copyright\n",
    "\n",
    "Trilogy Education Services © 2017. All Rights Reserved."
   ]
  },
  {
   "cell_type": "code",
   "execution_count": 1,
   "metadata": {},
   "outputs": [],
   "source": [
    "# Dependencies\n",
    "import tweepy\n",
    "import numpy as np\n",
    "\n",
    "# Import and Initialize Sentiment Analyzer\n",
    "from vaderSentiment.vaderSentiment import SentimentIntensityAnalyzer\n",
    "analyzer = SentimentIntensityAnalyzer()\n",
    "\n",
    "# Twitter API Keys\n",
    "from config import (consumer_key,\n",
    "                    consumer_secret,\n",
    "                    access_token,\n",
    "                    access_token_secret)\n",
    "\n",
    "# Setup Tweepy API Authentication\n",
    "auth = tweepy.OAuthHandler(consumer_key, consumer_secret)\n",
    "auth.set_access_token(access_token, access_token_secret)\n",
    "api = tweepy.API(auth, parser=tweepy.parsers.JSONParser())"
   ]
  },
  {
   "cell_type": "code",
   "execution_count": null,
   "metadata": {
    "collapsed": true
   },
   "outputs": [],
   "source": [
    "# Target User Account\n",
    "target_user = \"@DalaiLama\"\n",
    "\n",
    "# Variables for holding sentiments\n",
    "compound_list = []\n",
    "positive_list = []\n",
    "negative_list = []\n",
    "neutral_list = []\n",
    "\n",
    "# Loop through 10 pages of tweets (total 200 tweets)\n",
    "for x in range(10):\n",
    "\n",
    "    # Get all tweets from home feed\n",
    "    # YOUR CODE HERE\n",
    "\n",
    "    # Loop through all tweets\n",
    "    for tweet in public_tweets:\n",
    "\n",
    "        # Run Vader Analysis on each tweet\n",
    "        # YOUR CODE HERE\n",
    "\n",
    "        # Add each value to the appropriate list\n",
    "        # YOUR CODE HERE"
   ]
  },
  {
   "cell_type": "code",
   "execution_count": null,
   "metadata": {
    "collapsed": true
   },
   "outputs": [],
   "source": [
    "# Print the Averages\n",
    "print(f\"User: {target_user}\")\n",
    "print(f\"Compound: {np.mean(compound_list):.3f}\")\n",
    "print(f\"Positive: {np.mean(positive_list):.3f}\")\n",
    "print(f\"Neutral: {np.mean(neutral_list):.3f}\")\n",
    "print(f\"Negative: {np.mean(negative_list):.3f}\")"
   ]
  }
 ],
 "metadata": {
  "kernelspec": {
   "display_name": "Python 3",
   "language": "python",
   "name": "python3"
  },
  "language_info": {
   "codemirror_mode": {
    "name": "ipython",
    "version": 3
   },
   "file_extension": ".py",
   "mimetype": "text/x-python",
   "name": "python",
   "nbconvert_exporter": "python",
   "pygments_lexer": "ipython3",
   "version": "3.6.4"
  },
  "varInspector": {
   "cols": {
    "lenName": 16,
    "lenType": 16,
    "lenVar": 40
   },
   "kernels_config": {
    "python": {
     "delete_cmd_postfix": "",
     "delete_cmd_prefix": "del ",
     "library": "var_list.py",
     "varRefreshCmd": "print(var_dic_list())"
    },
    "r": {
     "delete_cmd_postfix": ") ",
     "delete_cmd_prefix": "rm(",
     "library": "var_list.r",
     "varRefreshCmd": "cat(var_dic_list()) "
    }
   },
   "types_to_exclude": [
    "module",
    "function",
    "builtin_function_or_method",
    "instance",
    "_Feature"
   ],
   "window_display": false
  }
 },
 "nbformat": 4,
 "nbformat_minor": 2
}
