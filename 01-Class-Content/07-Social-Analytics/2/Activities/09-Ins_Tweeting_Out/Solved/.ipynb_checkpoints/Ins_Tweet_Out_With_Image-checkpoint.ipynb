{
 "cells": [
  {
   "cell_type": "code",
   "execution_count": 1,
   "metadata": {
    "collapsed": true
   },
   "outputs": [],
   "source": [
    "# Dependencies\n",
    "import tweepy\n",
    "\n",
    "# Twitter API Keys\n",
    "from config import (consumer_key, \n",
    "                    consumer_secret, \n",
    "                    access_token, \n",
    "                    access_token_secret)\n",
    "\n",
    "# Setup Tweepy API Authentication\n",
    "auth = tweepy.OAuthHandler(consumer_key, consumer_secret)\n",
    "auth.set_access_token(access_token, access_token_secret)\n",
    "api = tweepy.API(auth, parser=tweepy.parsers.JSONParser())"
   ]
  },
  {
   "cell_type": "code",
   "execution_count": 2,
   "metadata": {},
   "outputs": [
    {
     "data": {
      "text/plain": [
       "{'contributors': None,\n",
       " 'coordinates': None,\n",
       " 'created_at': 'Thu Nov 16 20:30:45 +0000 2017',\n",
       " 'entities': {'hashtags': [],\n",
       "  'media': [{'display_url': 'pic.twitter.com/wNklx7Y3Nj',\n",
       "    'expanded_url': 'https://twitter.com/DaDataBootcamp/status/931258257511010305/photo/1',\n",
       "    'id': 931258254352699392,\n",
       "    'id_str': '931258254352699392',\n",
       "    'indices': [53, 76],\n",
       "    'media_url': 'http://pbs.twimg.com/media/DOx-csTX0AA8kca.jpg',\n",
       "    'media_url_https': 'https://pbs.twimg.com/media/DOx-csTX0AA8kca.jpg',\n",
       "    'sizes': {'large': {'h': 465, 'resize': 'fit', 'w': 500},\n",
       "     'medium': {'h': 465, 'resize': 'fit', 'w': 500},\n",
       "     'small': {'h': 465, 'resize': 'fit', 'w': 500},\n",
       "     'thumb': {'h': 150, 'resize': 'crop', 'w': 150}},\n",
       "    'type': 'photo',\n",
       "    'url': 'https://t.co/wNklx7Y3Nj'}],\n",
       "  'symbols': [],\n",
       "  'urls': [],\n",
       "  'user_mentions': []},\n",
       " 'extended_entities': {'media': [{'display_url': 'pic.twitter.com/wNklx7Y3Nj',\n",
       "    'expanded_url': 'https://twitter.com/DaDataBootcamp/status/931258257511010305/photo/1',\n",
       "    'id': 931258254352699392,\n",
       "    'id_str': '931258254352699392',\n",
       "    'indices': [53, 76],\n",
       "    'media_url': 'http://pbs.twimg.com/media/DOx-csTX0AA8kca.jpg',\n",
       "    'media_url_https': 'https://pbs.twimg.com/media/DOx-csTX0AA8kca.jpg',\n",
       "    'sizes': {'large': {'h': 465, 'resize': 'fit', 'w': 500},\n",
       "     'medium': {'h': 465, 'resize': 'fit', 'w': 500},\n",
       "     'small': {'h': 465, 'resize': 'fit', 'w': 500},\n",
       "     'thumb': {'h': 150, 'resize': 'crop', 'w': 150}},\n",
       "    'type': 'photo',\n",
       "    'url': 'https://t.co/wNklx7Y3Nj'}]},\n",
       " 'favorite_count': 0,\n",
       " 'favorited': False,\n",
       " 'geo': None,\n",
       " 'id': 931258257511010305,\n",
       " 'id_str': '931258257511010305',\n",
       " 'in_reply_to_screen_name': None,\n",
       " 'in_reply_to_status_id': None,\n",
       " 'in_reply_to_status_id_str': None,\n",
       " 'in_reply_to_user_id': None,\n",
       " 'in_reply_to_user_id_str': None,\n",
       " 'is_quote_status': False,\n",
       " 'lang': 'en',\n",
       " 'place': None,\n",
       " 'possibly_sensitive': False,\n",
       " 'retweet_count': 0,\n",
       " 'retweeted': False,\n",
       " 'source': '<a href=\"http://www.google.com\" rel=\"nofollow\">DataExercises</a>',\n",
       " 'text': 'And now... I just tweeted an image programmatically! https://t.co/wNklx7Y3Nj',\n",
       " 'truncated': False,\n",
       " 'user': {'contributors_enabled': False,\n",
       "  'created_at': 'Wed Mar 08 23:38:26 +0000 2017',\n",
       "  'default_profile': True,\n",
       "  'default_profile_image': False,\n",
       "  'description': 'Note: This profile is intended strictly for educational purposes of working with the Twitter API. Tweets may be automated.',\n",
       "  'entities': {'description': {'urls': []}},\n",
       "  'favourites_count': 1,\n",
       "  'follow_request_sent': False,\n",
       "  'followers_count': 6,\n",
       "  'following': False,\n",
       "  'friends_count': 22,\n",
       "  'geo_enabled': False,\n",
       "  'has_extended_profile': False,\n",
       "  'id': 839621358724198402,\n",
       "  'id_str': '839621358724198402',\n",
       "  'is_translation_enabled': False,\n",
       "  'is_translator': False,\n",
       "  'lang': 'en',\n",
       "  'listed_count': 0,\n",
       "  'location': '',\n",
       "  'name': 'DaDataBootcamp',\n",
       "  'notifications': False,\n",
       "  'profile_background_color': 'F5F8FA',\n",
       "  'profile_background_image_url': None,\n",
       "  'profile_background_image_url_https': None,\n",
       "  'profile_background_tile': False,\n",
       "  'profile_image_url': 'http://pbs.twimg.com/profile_images/840057542579380224/ydcUwwXV_normal.jpg',\n",
       "  'profile_image_url_https': 'https://pbs.twimg.com/profile_images/840057542579380224/ydcUwwXV_normal.jpg',\n",
       "  'profile_link_color': '1DA1F2',\n",
       "  'profile_sidebar_border_color': 'C0DEED',\n",
       "  'profile_sidebar_fill_color': 'DDEEF6',\n",
       "  'profile_text_color': '333333',\n",
       "  'profile_use_background_image': True,\n",
       "  'protected': False,\n",
       "  'screen_name': 'DaDataBootcamp',\n",
       "  'statuses_count': 24198,\n",
       "  'time_zone': None,\n",
       "  'translator_type': 'none',\n",
       "  'url': None,\n",
       "  'utc_offset': None,\n",
       "  'verified': False}}"
      ]
     },
     "execution_count": 2,
     "metadata": {},
     "output_type": "execute_result"
    }
   ],
   "source": [
    "# Create a status update\n",
    "api.update_with_media(\"../Resources/too-much-big-data.jpg\",\n",
    "                      \"And now... I just tweeted an image programmatically!\")"
   ]
  }
 ],
 "metadata": {
  "kernelspec": {
   "display_name": "Python 3",
   "language": "python",
   "name": "python3"
  },
  "language_info": {
   "codemirror_mode": {
    "name": "ipython",
    "version": 3
   },
   "file_extension": ".py",
   "mimetype": "text/x-python",
   "name": "python",
   "nbconvert_exporter": "python",
   "pygments_lexer": "ipython3",
   "version": "3.6.4"
  },
  "varInspector": {
   "cols": {
    "lenName": 16,
    "lenType": 16,
    "lenVar": 40
   },
   "kernels_config": {
    "python": {
     "delete_cmd_postfix": "",
     "delete_cmd_prefix": "del ",
     "library": "var_list.py",
     "varRefreshCmd": "print(var_dic_list())"
    },
    "r": {
     "delete_cmd_postfix": ") ",
     "delete_cmd_prefix": "rm(",
     "library": "var_list.r",
     "varRefreshCmd": "cat(var_dic_list()) "
    }
   },
   "types_to_exclude": [
    "module",
    "function",
    "builtin_function_or_method",
    "instance",
    "_Feature"
   ],
   "window_display": false
  }
 },
 "nbformat": 4,
 "nbformat_minor": 2
}
