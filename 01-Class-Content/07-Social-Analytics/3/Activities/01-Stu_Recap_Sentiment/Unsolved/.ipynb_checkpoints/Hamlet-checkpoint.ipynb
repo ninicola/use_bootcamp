{
 "cells": [
  {
   "cell_type": "markdown",
   "metadata": {},
   "source": [
    "### Billy Shakespeare\n",
    "\n",
    "### Instructions\n",
    "\n",
    "* Run vader analysis on the passage.\n",
    "\n",
    "* Print the analysis.\n",
    "\n"
   ]
  },
  {
   "cell_type": "code",
   "execution_count": 1,
   "metadata": {},
   "outputs": [
    {
     "ename": "ModuleNotFoundError",
     "evalue": "No module named 'config'",
     "output_type": "error",
     "traceback": [
      "\u001b[0;31m---------------------------------------------------------------------------\u001b[0m",
      "\u001b[0;31mModuleNotFoundError\u001b[0m                       Traceback (most recent call last)",
      "\u001b[0;32m<ipython-input-1-d9660d9c8692>\u001b[0m in \u001b[0;36m<module>\u001b[0;34m()\u001b[0m\n\u001b[1;32m     15\u001b[0m \u001b[0;34m\u001b[0m\u001b[0m\n\u001b[1;32m     16\u001b[0m \u001b[0;31m# Twitter API Keys\u001b[0m\u001b[0;34m\u001b[0m\u001b[0;34m\u001b[0m\u001b[0m\n\u001b[0;32m---> 17\u001b[0;31m from config import (consumer_key, \n\u001b[0m\u001b[1;32m     18\u001b[0m                     \u001b[0mconsumer_secret\u001b[0m\u001b[0;34m,\u001b[0m\u001b[0;34m\u001b[0m\u001b[0m\n\u001b[1;32m     19\u001b[0m                     \u001b[0maccess_token\u001b[0m\u001b[0;34m,\u001b[0m\u001b[0;34m\u001b[0m\u001b[0m\n",
      "\u001b[0;31mModuleNotFoundError\u001b[0m: No module named 'config'"
     ]
    }
   ],
   "source": [
    "# Import and Initialize Sentiment Analyzer\n",
    "# YOUR CODE HERE\n",
    "# Dependencies\n",
    "import tweepy\n",
    "import numpy as np\n",
    "import pandas as pd\n",
    "from datetime import datetime\n",
    "import matplotlib.pyplot as plt\n",
    "from matplotlib import style\n",
    "style.use('ggplot')\n",
    "\n",
    "# Import and Initialize Sentiment Analyzer\n",
    "from vaderSentiment.vaderSentiment import SentimentIntensityAnalyzer\n",
    "analyzer = SentimentIntensityAnalyzer()\n",
    "\n",
    "# Twitter API Keys\n",
    "from config import (consumer_key, \n",
    "                    consumer_secret, \n",
    "                    access_token, \n",
    "                    access_token_secret)\n",
    "\n",
    "# Setup Tweepy API Authentication\n",
    "auth = tweepy.OAuthHandler(consumer_key, consumer_secret)\n",
    "auth.set_access_token(access_token, access_token_secret)\n",
    "api = tweepy.API(auth, parser=tweepy.parsers.JSONParser())"
   ]
  },
  {
   "cell_type": "code",
   "execution_count": 2,
   "metadata": {
    "collapsed": true
   },
   "outputs": [],
   "source": [
    "# Passage\n",
    "HamletPassage = \"\"\"To be, or not to be: that is the question: Whether 'tis\n",
    "nobler in the mind to suffer The slings and arrows of outrageous fortune, Or\n",
    "to take arms against a sea of troubles, And by opposing end them? To die: to\n",
    "sleep; No more; and by a sleep to say we end The heart-ache and the thousand\n",
    "natural shocks That flesh is heir to, 'tis a consummation Devoutly to be\n",
    "wish'd. To die, to sleep; To sleep: perchance to dream: ay, there's the rub;\n",
    "For in that sleep of death what dreams may come When we have shuffled off this\n",
    "mortal coil, Must give us pause: there's the respect That makes calamity of so\n",
    "long life; For who would bear the whips and scorns of time, The oppressor's\n",
    "wrong, the proud man's contumely, The pangs of despised love, the law's delay,\n",
    "The insolence of office and the spurns That patient merit of the unworthy\n",
    "takes, When he himself might his quietus make With a bare bodkin? who would\n",
    "fardels bear, To grunt and sweat under a weary life, But that the dread of\n",
    "something after death, The undiscover'd country from whose bourn No traveller\n",
    "returns, puzzles the will And makes us rather bear those ills we have Than fly\n",
    "to others that we know not of? Thus conscience does make cowards of us all;\n",
    "And thus the native hue of resolution Is sicklied o'er with the pale cast of\n",
    "thought, And enterprises of great pith and moment With this regard their\n",
    "currents turn awry, And lose the name of action.--Soft you now! The fair\n",
    "Ophelia! Nymph, in thy orisons Be all my sins remember'd.\"\"\""
   ]
  },
  {
   "cell_type": "code",
   "execution_count": 3,
   "metadata": {
    "collapsed": true
   },
   "outputs": [],
   "source": [
    "# Run Vader Analysis on Passage\n",
    "# YOUR CODE HERE"
   ]
  },
  {
   "cell_type": "code",
   "execution_count": 4,
   "metadata": {
    "collapsed": true
   },
   "outputs": [],
   "source": [
    "# Print Analysis\n",
    "# YOUR CODE HERE"
   ]
  },
  {
   "cell_type": "code",
   "execution_count": null,
   "metadata": {
    "collapsed": true
   },
   "outputs": [],
   "source": []
  }
 ],
 "metadata": {
  "kernelspec": {
   "display_name": "Python 3",
   "language": "python",
   "name": "python3"
  },
  "language_info": {
   "codemirror_mode": {
    "name": "ipython",
    "version": 3
   },
   "file_extension": ".py",
   "mimetype": "text/x-python",
   "name": "python",
   "nbconvert_exporter": "python",
   "pygments_lexer": "ipython3",
   "version": "3.6.4"
  }
 },
 "nbformat": 4,
 "nbformat_minor": 2
}
