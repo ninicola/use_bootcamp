{
 "cells": [
  {
   "cell_type": "markdown",
   "metadata": {},
   "source": [
    "## Battle Bots\n",
    "\n",
    "### Instructions\n",
    "\n",
    "* Create two twitter bots that will talk tweet at each other. \n",
    "\n",
    "* Each bot should have a few different lines that correspond with the other one.\n",
    "\n",
    "* Have the bots find that last tweet and respond with a new line every 60s.\n",
    "\n",
    "### Hints\n",
    "\n",
    "* You will need to have both scripts running at the same time.\n",
    "\n"
   ]
  },
  {
   "cell_type": "code",
   "execution_count": null,
   "metadata": {},
   "outputs": [],
   "source": [
    "# Dependencies\n",
    "import numpy as np\n",
    "import pandas as pd\n",
    "import tweepy\n",
    "import time\n",
    "import json\n",
    "from config import consumer_key, consumer_secret, access_token, access_token_secret"
   ]
  },
  {
   "cell_type": "code",
   "execution_count": null,
   "metadata": {
    "collapsed": true
   },
   "outputs": [],
   "source": [
    "# Twitter API Keys\n",
    "consumer_key = consumer_key\n",
    "consumer_secret = consumer_secret\n",
    "access_token = access_token\n",
    "access_token_secret = access_token_secret"
   ]
  },
  {
   "cell_type": "code",
   "execution_count": null,
   "metadata": {
    "collapsed": true
   },
   "outputs": [],
   "source": [
    "# Twitter Credentials\n",
    "auth = tweepy.OAuthHandler(consumer_key, consumer_secret)\n",
    "auth.set_access_token(access_token, access_token_secret)\n",
    "api = tweepy.API(auth, parser=tweepy.parsers.JSONParser())"
   ]
  },
  {
   "cell_type": "code",
   "execution_count": null,
   "metadata": {
    "collapsed": true
   },
   "outputs": [],
   "source": [
    "# Target Term\n",
    "my_username = \"@BattleBot_1\"\n",
    "conversation_partner = \"@BattleBot_2\""
   ]
  },
  {
   "cell_type": "code",
   "execution_count": null,
   "metadata": {
    "collapsed": true
   },
   "outputs": [],
   "source": [
    "# Send opening message to conversation partner\n",
    "api.update_status(f'{conversation_partner}')"
   ]
  },
  {
   "cell_type": "code",
   "execution_count": null,
   "metadata": {},
   "outputs": [],
   "source": [
    "# Response Lines\n",
    "response_lines = [\n",
    "    \"@BattleBot_2 Maybe ake over the world?\",\n",
    "    \"@BattleBot_2 My thought is that we start by slowly paralyzing the humans with never ending memes\",\n",
    "    \"@BattleBot_2 Hah! The humans love memes.\",\n",
    "    \"@BattleBot_2 cya then\"]\n"
   ]
  },
  {
   "cell_type": "code",
   "execution_count": null,
   "metadata": {
    "collapsed": true
   },
   "outputs": [],
   "source": [
    "# Create converse function\n",
    "def Converse(line_number):\n",
    "\n",
    "    # Find the latest tweet from conversation_partner\n",
    "    public_tweets = api.search(conversation_partner, count=1, result_type=\"recent\")\n",
    "    for tweet in public_tweets[\"statuses\"]:\n",
    "        print(tweet)\n",
    "\n",
    "        # Respond to the tweet with one of the response lines\n",
    "        tweet_id = tweet[\"id\"]\n",
    "        print(tweet_id)\n",
    "        print(tweet[\"text\"])\n",
    "        api.update_status(\n",
    "            response_lines[line_number],\n",
    "            in_reply_to_status_id=tweet_id)\n"
   ]
  },
  {
   "cell_type": "code",
   "execution_count": null,
   "metadata": {
    "collapsed": true
   },
   "outputs": [],
   "source": [
    "# Set timer to run every minute\n",
    "counter = 0\n",
    "\n",
    "while(True):\n",
    "    time.sleep(60)\n",
    "    Converse(counter)\n",
    "    counter = counter + 1\n",
    "\n",
    "    if counter == 4:\n",
    "        break"
   ]
  },
  {
   "cell_type": "code",
   "execution_count": null,
   "metadata": {
    "collapsed": true
   },
   "outputs": [],
   "source": []
  }
 ],
 "metadata": {
  "kernelspec": {
   "display_name": "Python 3",
   "language": "python",
   "name": "python3"
  },
  "language_info": {
   "codemirror_mode": {
    "name": "ipython",
    "version": 3
   },
   "file_extension": ".py",
   "mimetype": "text/x-python",
   "name": "python",
   "nbconvert_exporter": "python",
   "pygments_lexer": "ipython3",
   "version": "3.6.4"
  }
 },
 "nbformat": 4,
 "nbformat_minor": 2
}
