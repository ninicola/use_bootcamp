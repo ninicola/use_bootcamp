{
 "cells": [
  {
   "cell_type": "code",
   "execution_count": 1,
   "metadata": {
    "collapsed": true
   },
   "outputs": [],
   "source": [
    "# Dependencies\n",
    "import tweepy\n",
    "import time\n",
    "import json\n",
    "from config import consumer_key, consumer_secret, access_token, access_token_secret"
   ]
  },
  {
   "cell_type": "code",
   "execution_count": 2,
   "metadata": {
    "collapsed": true
   },
   "outputs": [],
   "source": [
    "# Twitter API Keys\n",
    "consumer_key = consumer_key\n",
    "consumer_secret = consumer_secret\n",
    "access_token = access_token\n",
    "access_token_secret = access_token_secret"
   ]
  },
  {
   "cell_type": "code",
   "execution_count": 3,
   "metadata": {
    "collapsed": true
   },
   "outputs": [],
   "source": [
    "# Target Term\n",
    "target_term = \"SouthwestAir\""
   ]
  },
  {
   "cell_type": "code",
   "execution_count": 4,
   "metadata": {
    "collapsed": true
   },
   "outputs": [],
   "source": [
    "# Twitter Credentials\n",
    "auth = tweepy.OAuthHandler(consumer_key, consumer_secret)\n",
    "auth.set_access_token(access_token, access_token_secret)\n",
    "api = tweepy.API(auth, parser=tweepy.parsers.JSONParser())"
   ]
  },
  {
   "cell_type": "code",
   "execution_count": 5,
   "metadata": {
    "collapsed": true
   },
   "outputs": [],
   "source": [
    "# Search for all tweets\n",
    "public_tweets = api.search(target_term, count=5, result_type=\"recent\")"
   ]
  },
  {
   "cell_type": "code",
   "execution_count": 6,
   "metadata": {},
   "outputs": [
    {
     "name": "stdout",
     "output_type": "stream",
     "text": [
      "It was an honor to be interviewed by Dinah Alobeid @Greenhouse! I loved getting to share more about my experience w… https://t.co/T7KGfuEKRM\n",
      "GingerHardage\n",
      "@SouthwestAir Ridiculous that ppl R suggesting U ban a person 4 making a personal comment on their personal Faceboo… https://t.co/SaEiXdiUFi\n",
      "lwsmcd\n",
      "Two SOLD OUT shows at @TerminalWest but you can get in to Rainbow Kitten Surprise's #404Session Friday! Invite only… https://t.co/PQ92NTZbqW\n",
      "ALT1057FM\n",
      "@TomWachowski Beautiful day from 35K feet! Thank you for sharing the window seat with us. -Warren https://t.co/M4gfC0pWNS\n",
      "SouthwestAir\n",
      "RT @propandkerosene: N8717M -@SouthwestAir 737-8 MAX, the 10,000th Boeing 737 - caught in the wild on base leg for BFI returning from B1 fi…\n",
      "luisevanegas\n"
     ]
    }
   ],
   "source": [
    "# Loop through all public_tweets\n",
    "for tweet in public_tweets[\"statuses\"]:\n",
    "\n",
    "    # Get ID and Author of most recent tweet directed to me\n",
    "    tweet_id = tweet[\"id\"]\n",
    "    tweet_author = tweet[\"user\"][\"screen_name\"]\n",
    "    tweet_text = tweet[\"text\"]\n",
    "\n",
    "    # Print Tweet Text and Tweet Author\n",
    "    print(tweet_text)\n",
    "    print(tweet_author)"
   ]
  },
  {
   "cell_type": "code",
   "execution_count": null,
   "metadata": {
    "collapsed": true
   },
   "outputs": [],
   "source": []
  }
 ],
 "metadata": {
  "kernelspec": {
   "display_name": "Python 3",
   "language": "python",
   "name": "python3"
  },
  "language_info": {
   "codemirror_mode": {
    "name": "ipython",
    "version": 3
   },
   "file_extension": ".py",
   "mimetype": "text/x-python",
   "name": "python",
   "nbconvert_exporter": "python",
   "pygments_lexer": "ipython3",
   "version": "3.6.4"
  }
 },
 "nbformat": 4,
 "nbformat_minor": 2
}
