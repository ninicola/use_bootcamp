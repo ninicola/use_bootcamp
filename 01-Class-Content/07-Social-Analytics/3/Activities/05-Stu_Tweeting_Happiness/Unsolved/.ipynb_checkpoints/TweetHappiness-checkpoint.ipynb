{
 "cells": [
  {
   "cell_type": "markdown",
   "metadata": {},
   "source": [
    "# Happiness is just a tweet away\n",
    "\n",
    "## Instructions\n",
    "\n",
    "* You are given a list of happy quotes that you need to share with the world but you can't quite decided which one.\n",
    "\n",
    "* Create a function that will update your twitter status with a random quote from `happy_quotes`. You should have a message that alerts you locally that a quotes was successfully tweeted.\n",
    "\n",
    "* Then create a loop that will tweet a random quotes every 60 seconds.\n",
    "\n",
    "## Hints\n",
    "\n",
    "Checkout [random library](https://docs.python.org/2/library/random.html) for the documentation."
   ]
  },
  {
   "cell_type": "code",
   "execution_count": null,
   "metadata": {
    "collapsed": true
   },
   "outputs": [],
   "source": [
    "# Dependencies\n",
    "import pandas as pd\n",
    "import tweepy\n",
    "import time\n",
    "import json\n",
    "import random\n",
    "from config import consumer_key, consumer_secret, access_token, access_token_secret"
   ]
  },
  {
   "cell_type": "code",
   "execution_count": null,
   "metadata": {
    "collapsed": true
   },
   "outputs": [],
   "source": [
    "# Twitter API Keys\n",
    "consumer_key = consumer_key\n",
    "consumer_secret = consumer_secret\n",
    "access_token = access_token\n",
    "access_token_secret = access_token_secret"
   ]
  },
  {
   "cell_type": "code",
   "execution_count": null,
   "metadata": {
    "collapsed": true
   },
   "outputs": [],
   "source": [
    "# Quotes to Tweet\n",
    "happy_quotes = [\n",
    "    \"For every minute you are angry you lose sixty seconds of happiness. - Ralph Waldo Emerson\",\n",
    "    \"Folks are usually about as happy as they make their minds up to be. - Abraham Lincoln\",\n",
    "    \"Happiness is when what you think, what you say, and what you do are in harmony. - Mahatma Gandhi\",\n",
    "    \"Count your age by friends, not years. Count your life by smiles, not tears. - John Lennon\",\n",
    "    \"Happiness is a warm puppy. - Charles M. Schulz\",\n",
    "    \"The happiness of your life depends upon the quality of your thoughts. - Marcus Aurelius\",\n",
    "    \"Now and then it's good to pause in our pursuit of happiness and just be happy. - Guillaume Apollinaire\"]"
   ]
  },
  {
   "cell_type": "code",
   "execution_count": null,
   "metadata": {
    "collapsed": true
   },
   "outputs": [],
   "source": [
    "# Create function for tweeting\n",
    "\n",
    "\n",
    "    # Twitter credentials\n",
    "\n",
    "\n",
    "    # Tweet a random quote\n",
    "\n",
    "\n",
    "    # Print success message\n"
   ]
  },
  {
   "cell_type": "code",
   "execution_count": null,
   "metadata": {},
   "outputs": [],
   "source": [
    "# Set timer to run every minute\n"
   ]
  },
  {
   "cell_type": "code",
   "execution_count": null,
   "metadata": {
    "collapsed": true
   },
   "outputs": [],
   "source": []
  }
 ],
 "metadata": {
  "kernelspec": {
   "display_name": "Python 3",
   "language": "python",
   "name": "python3"
  },
  "language_info": {
   "codemirror_mode": {
    "name": "ipython",
    "version": 3
   },
   "file_extension": ".py",
   "mimetype": "text/x-python",
   "name": "python",
   "nbconvert_exporter": "python",
   "pygments_lexer": "ipython3",
   "version": "3.6.4"
  },
  "nteract": {
   "version": "0.8.4"
  }
 },
 "nbformat": 4,
 "nbformat_minor": 2
}
