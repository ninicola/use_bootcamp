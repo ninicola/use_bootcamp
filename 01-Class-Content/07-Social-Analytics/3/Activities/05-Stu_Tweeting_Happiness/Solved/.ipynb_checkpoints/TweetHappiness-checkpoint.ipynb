{
 "cells": [
  {
   "cell_type": "code",
   "execution_count": 1,
   "metadata": {
    "collapsed": true
   },
   "outputs": [],
   "source": [
    "# Dependencies\n",
    "import pandas as pd\n",
    "import tweepy\n",
    "import time\n",
    "import json\n",
    "import random\n",
    "from config import consumer_key, consumer_secret, access_token, access_token_secret"
   ]
  },
  {
   "cell_type": "code",
   "execution_count": 2,
   "metadata": {
    "collapsed": true
   },
   "outputs": [],
   "source": [
    "# Twitter API Keys\n",
    "consumer_key = consumer_key\n",
    "consumer_secret = consumer_secret\n",
    "access_token = access_token\n",
    "access_token_secret = access_token_secret"
   ]
  },
  {
   "cell_type": "code",
   "execution_count": 3,
   "metadata": {
    "collapsed": true
   },
   "outputs": [],
   "source": [
    "# Quotes to Tweet\n",
    "happy_quotes = [\n",
    "    \"For every minute you are angry you lose sixty seconds of happiness. - Ralph Waldo Emerson\",\n",
    "    \"Folks are usually about as happy as they make their minds up to be. - Abraham Lincoln\",\n",
    "    \"Happiness is when what you think, what you say, and what you do are in harmony. - Mahatma Gandhi\",\n",
    "    \"Count your age by friends, not years. Count your life by smiles, not tears. - John Lennon\",\n",
    "    \"Happiness is a warm puppy. - Charles M. Schulz\",\n",
    "    \"The happiness of your life depends upon the quality of your thoughts. - Marcus Aurelius\",\n",
    "    \"Now and then it's good to pause in our pursuit of happiness and just be happy. - Guillaume Apollinaire\"]"
   ]
  },
  {
   "cell_type": "code",
   "execution_count": 4,
   "metadata": {
    "collapsed": true
   },
   "outputs": [],
   "source": [
    "# Create function for tweeting\n",
    "def happy_it_up(counter):\n",
    "\n",
    "    # Twitter credentials\n",
    "    auth = tweepy.OAuthHandler(consumer_key, consumer_secret)\n",
    "    auth.set_access_token(access_token, access_token_secret)\n",
    "    api = tweepy.API(auth, parser=tweepy.parsers.JSONParser())\n",
    "\n",
    "    # Tweet a quote\n",
    "    api.update_status(happy_quotes[counter])\n",
    "\n",
    "    # Print success message\n",
    "    print(\"Tweeted successfully!\")"
   ]
  },
  {
   "cell_type": "code",
   "execution_count": null,
   "metadata": {},
   "outputs": [],
   "source": [
    "# Set timer to run every minute\n",
    "counter = 0\n",
    "while counter < 60:\n",
    "    happy_it_up(counter)\n",
    "    time.sleep(60)\n",
    "    counter += 1"
   ]
  }
 ],
 "metadata": {
  "kernelspec": {
   "display_name": "Python 3",
   "language": "python",
   "name": "python3"
  },
  "language_info": {
   "codemirror_mode": {
    "name": "ipython",
    "version": 3
   },
   "file_extension": ".py",
   "mimetype": "text/x-python",
   "name": "python",
   "nbconvert_exporter": "python",
   "pygments_lexer": "ipython3",
   "version": "3.6.4"
  },
  "varInspector": {
   "cols": {
    "lenName": 16,
    "lenType": 16,
    "lenVar": 40
   },
   "kernels_config": {
    "python": {
     "delete_cmd_postfix": "",
     "delete_cmd_prefix": "del ",
     "library": "var_list.py",
     "varRefreshCmd": "print(var_dic_list())"
    },
    "r": {
     "delete_cmd_postfix": ") ",
     "delete_cmd_prefix": "rm(",
     "library": "var_list.r",
     "varRefreshCmd": "cat(var_dic_list()) "
    }
   },
   "types_to_exclude": [
    "module",
    "function",
    "builtin_function_or_method",
    "instance",
    "_Feature"
   ],
   "window_display": false
  }
 },
 "nbformat": 4,
 "nbformat_minor": 2
}
