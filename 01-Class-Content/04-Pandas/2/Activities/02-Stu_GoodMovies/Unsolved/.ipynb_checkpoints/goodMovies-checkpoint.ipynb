{
 "cells": [
  {
   "cell_type": "markdown",
   "metadata": {},
   "source": [
    "## Good Movies\n",
    "\n",
    "### Instructions\n",
    "\n",
    "* Use Pandas to load and display the CSV provided in `Resources`.\n",
    "\n",
    "* List all the columns in the data set.\n",
    "\n",
    "* We're only interested in IMDb data, so create a new table that takes the Film and all the columns relating to IMDB.\n",
    "\n",
    "* Filter out only the good movies—i.e., any film with an IMDb score greater than or equal to 7 and remove the norm ratings.\n",
    "\n",
    "* Find less popular movies that you may not have heard about - i.e., anything with under 20K votes\n",
    "\n",
    "* Finally, export this file to a spreadsheet, excluding the index, so we can keep track of our future watchlist."
   ]
  },
  {
   "cell_type": "code",
   "execution_count": null,
   "metadata": {
    "collapsed": true
   },
   "outputs": [],
   "source": [
    "# Dependencies"
   ]
  },
  {
   "cell_type": "code",
   "execution_count": null,
   "metadata": {
    "collapsed": true
   },
   "outputs": [],
   "source": [
    "# Load in File from resources\n",
    "# 'movie_scores.csv'"
   ]
  },
  {
   "cell_type": "code",
   "execution_count": null,
   "metadata": {
    "collapsed": true
   },
   "outputs": [],
   "source": [
    "# Read and display with pandas"
   ]
  },
  {
   "cell_type": "code",
   "execution_count": null,
   "metadata": {
    "collapsed": true
   },
   "outputs": [],
   "source": [
    "# List all the columns the table provides"
   ]
  },
  {
   "cell_type": "code",
   "execution_count": null,
   "metadata": {
    "collapsed": true
   },
   "outputs": [],
   "source": [
    "# only care about Imdb, so create a new table that takes the Film and all the columns relating to IMDB"
   ]
  },
  {
   "cell_type": "code",
   "execution_count": null,
   "metadata": {
    "collapsed": true
   },
   "outputs": [],
   "source": [
    "# List only movies whose ratings are over 7 (out of 10) in IMDB"
   ]
  },
  {
   "cell_type": "code",
   "execution_count": null,
   "metadata": {
    "collapsed": true
   },
   "outputs": [],
   "source": [
    "# Find lesser-known movies to watch, with fewer than 20K votes"
   ]
  },
  {
   "cell_type": "code",
   "execution_count": null,
   "metadata": {
    "collapsed": true
   },
   "outputs": [],
   "source": [
    "# Finally, export this file to an Excel spreadsheet -- without the DataFrame index."
   ]
  }
 ],
 "metadata": {
  "anaconda-cloud": {},
  "kernel_info": {
   "name": "python3"
  },
  "kernelspec": {
   "display_name": "Python 3",
   "language": "python",
   "name": "python3"
  },
  "language_info": {
   "codemirror_mode": {
    "name": "ipython",
    "version": 3
   },
   "file_extension": ".py",
   "mimetype": "text/x-python",
   "name": "python",
   "nbconvert_exporter": "python",
   "pygments_lexer": "ipython3",
   "version": "3.6.4"
  },
  "nteract": {
   "version": "0.2.0"
  }
 },
 "nbformat": 4,
 "nbformat_minor": 2
}
