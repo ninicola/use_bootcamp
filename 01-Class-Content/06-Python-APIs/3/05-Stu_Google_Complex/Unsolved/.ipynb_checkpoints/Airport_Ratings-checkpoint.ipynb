{
 "cells": [
  {
   "cell_type": "markdown",
   "metadata": {},
   "source": [
    "# Google Complex (Airport)\n",
    "\n",
    "In this activity we are tasked with creating a Data Frame containing the rating of every airport in the top 100 metropolitan areas according to Google Users.\n",
    "\n",
    "## Instructions\n",
    "\n",
    "* Using [06-Stu_Google_Complex/Airport_Ratings.ipynb](Unsolved/Airport_Ratings.ipynb) as a starting point, utilize the Google Geocoding API, the Google Places API, and Python/Jupyter, create a script that lists the \"Airport Rating\" of the major \"International Airport\" in each the top 100 metropolitan areas found in [06-Stu_Google_Complex/Cities.csv](Resources/Cities.csv).\n",
    "\n",
    "* Your final `ipynb` file should contain each of the following headers: \n",
    "\n",
    "  1. `City`\n",
    "\n",
    "  2. `State`\n",
    "\n",
    "  3. `Lat`\n",
    "\n",
    "  4. `Lng`\n",
    "\n",
    "  5. `Airport Name`\n",
    "\n",
    "  6. `Airport Address`\n",
    "\n",
    "  7. `Airport Rating`\n",
    "\n",
    "### Hints\n",
    "\n",
    "* You will need to obtain the lat/lng of each airport prior to sending it through the Google Places API to obtain the rating.\n",
    "\n",
    "* When using the Google Places API, be sure to use the term: \"International Airport\" to ensure that the airport you receive data for is the major airport in the city and not a regional one.\n",
    "\n",
    "* Use a try-except to skip airports for which there are no Google user ratings.\n",
    "\n"
   ]
  },
  {
   "cell_type": "code",
   "execution_count": null,
   "metadata": {
    "collapsed": true
   },
   "outputs": [],
   "source": [
    "# Dependencies\n",
    "import pandas as pd\n",
    "import numpy as np\n",
    "import requests\n",
    "import json\n",
    "\n",
    "# Import API key\n"
   ]
  },
  {
   "cell_type": "code",
   "execution_count": null,
   "metadata": {
    "collapsed": true
   },
   "outputs": [],
   "source": [
    "# Import cities file into the cities_pd DataFrame\n",
    "cities_pd = pd.DataFrame()\n"
   ]
  },
  {
   "cell_type": "code",
   "execution_count": null,
   "metadata": {
    "collapsed": true
   },
   "outputs": [],
   "source": [
    "# Add columns for lat, lng, airport name, airport address, airport rating.\n",
    "# Hint: Be sure to specify \"\" as the initial value for each column."
   ]
  },
  {
   "cell_type": "code",
   "execution_count": null,
   "metadata": {
    "collapsed": true,
    "scrolled": true
   },
   "outputs": [],
   "source": [
    "# Loop through the cities_pd and get the lat/long for each city\n",
    "# Hint: `requests.get(target_url).json()`\n",
    "# Hint: `for index, row in cities_pd.iterrows():`\n",
    "# Hint: `cities_pd.loc`"
   ]
  },
  {
   "cell_type": "code",
   "execution_count": null,
   "metadata": {
    "collapsed": true,
    "scrolled": false
   },
   "outputs": [],
   "source": [
    "# Use the lat/lng we recovered to identify airports\n",
    "# Hint: Code is similar to above block (i.e. you will need to use cities_pd.iterrows() again)\n",
    "# Hint: Use the keyword search for \"international+airport\"\n",
    "# Hint: Use a try-except to handle airports that are missing ratings"
   ]
  },
  {
   "cell_type": "code",
   "execution_count": null,
   "metadata": {
    "collapsed": true
   },
   "outputs": [],
   "source": [
    "# Save Data to csv\n",
    "\n",
    "\n",
    "# Visualize to confirm airport data appears"
   ]
  }
 ],
 "metadata": {
  "anaconda-cloud": {},
  "kernelspec": {
   "display_name": "Python 3",
   "language": "python",
   "name": "python3"
  },
  "language_info": {
   "codemirror_mode": {
    "name": "ipython",
    "version": 3
   },
   "file_extension": ".py",
   "mimetype": "text/x-python",
   "name": "python",
   "nbconvert_exporter": "python",
   "pygments_lexer": "ipython3",
   "version": "3.6.4"
  }
 },
 "nbformat": 4,
 "nbformat_minor": 1
}
